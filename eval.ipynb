{
 "cells": [
  {
   "cell_type": "markdown",
   "metadata": {},
   "source": [
    "# Evaluation of the model output"
   ]
  },
  {
   "cell_type": "code",
   "execution_count": 1,
   "metadata": {},
   "outputs": [
    {
     "name": "stderr",
     "output_type": "stream",
     "text": [
      "c:\\Users\\jayan\\anaconda3\\envs\\DTx\\lib\\site-packages\\tqdm\\auto.py:21: TqdmWarning: IProgress not found. Please update jupyter and ipywidgets. See https://ipywidgets.readthedocs.io/en/stable/user_install.html\n",
      "  from .autonotebook import tqdm as notebook_tqdm\n"
     ]
    }
   ],
   "source": [
    "# Import libraries\n",
    "import os,sys,pathlib\n",
    "from datetime import datetime\n",
    "from config.config import get_cfg_defaults, combine_cfgs\n",
    "import matplotlib.pyplot as plt\n",
    "\n",
    "from transformers import DetrImageProcessor\n",
    "from tools import DETR_Wrapp, update_log_screen\n",
    "from modeling.ModelTools import get_model\n",
    "from data.DataTools import get_data\n",
    "\n",
    "# from detr.datasets import get_coco_api_from_dataset\n",
    "from coco_eval import CocoEvaluator\n",
    "import torch\n",
    "from pprint import pprint\n",
    "\n",
    "from Visualise import format_data, draw_boxes"
   ]
  },
  {
   "cell_type": "code",
   "execution_count": 2,
   "metadata": {},
   "outputs": [
    {
     "name": "stderr",
     "output_type": "stream",
     "text": [
      "c:\\Users\\jayan\\anaconda3\\envs\\DTx\\lib\\site-packages\\transformers\\models\\detr\\image_processing_detr.py:776: FutureWarning: The `max_size` parameter is deprecated and will be removed in v4.26. Please specify in `size['longest_edge'] instead`.\n",
      "  warnings.warn(\n"
     ]
    },
    {
     "name": "stdout",
     "output_type": "stream",
     "text": [
      "loading annotations into memory...\n",
      "Done (t=1.64s)\n",
      "creating index...\n",
      "index created!\n",
      "Number of samples for val from C:\\Users\\jayan\\Documents\\MECHATRONICS YR4\\MECH5845M - Professional Project\\DSAD4DeTr\\val\\annotations\\val_annotations.json: 1978\n",
      "Batch size for val: 4\n"
     ]
    }
   ],
   "source": [
    "# Initialise config and dataloader\n",
    "config_path = 'config/Exps/DTx_MS_CL.yaml'\n",
    "config = combine_cfgs(config_path)\n",
    "val_dataset, val_dataloader =  get_data(config, data_tag='val', shuffle=True)"
   ]
  },
  {
   "cell_type": "code",
   "execution_count": 3,
   "metadata": {},
   "outputs": [
    {
     "name": "stderr",
     "output_type": "stream",
     "text": [
      "Some weights of DetrForObjectDetection were not initialized from the model checkpoint at facebook/detr-resnet-50 and are newly initialized because the shapes did not match:\n",
      "- class_labels_classifier.bias: found shape torch.Size([92]) in the checkpoint and torch.Size([12]) in the model instantiated\n",
      "- class_labels_classifier.weight: found shape torch.Size([92, 256]) in the checkpoint and torch.Size([12, 256]) in the model instantiated\n",
      "You should probably TRAIN this model on a down-stream task to be able to use it for predictions and inference.\n"
     ]
    },
    {
     "name": "stdout",
     "output_type": "stream",
     "text": [
      "Changing backbone config.\n",
      "Adding Res2Net multiscale blocks\n",
      "Using Res2Net res2net50_26w_4s\n",
      "Adding connections for dense inference.\n",
      "Used feature maps are [2, 3]\n"
     ]
    },
    {
     "ename": "FileNotFoundError",
     "evalue": "[Errno 2] No such file or directory: 'final_00.pt'",
     "output_type": "error",
     "traceback": [
      "\u001b[1;31m---------------------------------------------------------------------------\u001b[0m",
      "\u001b[1;31mFileNotFoundError\u001b[0m                         Traceback (most recent call last)",
      "Cell \u001b[1;32mIn[3], line 5\u001b[0m\n\u001b[0;32m      3\u001b[0m model \u001b[38;5;241m=\u001b[39m DETR_Wrapp(detector, config)\n\u001b[0;32m      4\u001b[0m model_path \u001b[38;5;241m=\u001b[39m \u001b[38;5;124m\"\u001b[39m\u001b[38;5;124mfinal_00.pt\u001b[39m\u001b[38;5;124m\"\u001b[39m\n\u001b[1;32m----> 5\u001b[0m model\u001b[38;5;241m.\u001b[39mmodel\u001b[38;5;241m.\u001b[39mload_state_dict(\u001b[43mtorch\u001b[49m\u001b[38;5;241;43m.\u001b[39;49m\u001b[43mload\u001b[49m\u001b[43m(\u001b[49m\u001b[43mmodel_path\u001b[49m\u001b[43m)\u001b[49m)\n\u001b[0;32m      6\u001b[0m device \u001b[38;5;241m=\u001b[39m torch\u001b[38;5;241m.\u001b[39mdevice(\u001b[38;5;124m\"\u001b[39m\u001b[38;5;124mcuda\u001b[39m\u001b[38;5;124m\"\u001b[39m \u001b[38;5;28;01mif\u001b[39;00m torch\u001b[38;5;241m.\u001b[39mcuda\u001b[38;5;241m.\u001b[39mis_available() \u001b[38;5;28;01melse\u001b[39;00m \u001b[38;5;124m\"\u001b[39m\u001b[38;5;124mcpu\u001b[39m\u001b[38;5;124m\"\u001b[39m)\n\u001b[0;32m      7\u001b[0m model\u001b[38;5;241m.\u001b[39meval()\n",
      "File \u001b[1;32mc:\\Users\\jayan\\anaconda3\\envs\\DTx\\lib\\site-packages\\torch\\serialization.py:771\u001b[0m, in \u001b[0;36mload\u001b[1;34m(f, map_location, pickle_module, weights_only, **pickle_load_args)\u001b[0m\n\u001b[0;32m    768\u001b[0m \u001b[38;5;28;01mif\u001b[39;00m \u001b[38;5;124m'\u001b[39m\u001b[38;5;124mencoding\u001b[39m\u001b[38;5;124m'\u001b[39m \u001b[38;5;129;01mnot\u001b[39;00m \u001b[38;5;129;01min\u001b[39;00m pickle_load_args\u001b[38;5;241m.\u001b[39mkeys():\n\u001b[0;32m    769\u001b[0m     pickle_load_args[\u001b[38;5;124m'\u001b[39m\u001b[38;5;124mencoding\u001b[39m\u001b[38;5;124m'\u001b[39m] \u001b[38;5;241m=\u001b[39m \u001b[38;5;124m'\u001b[39m\u001b[38;5;124mutf-8\u001b[39m\u001b[38;5;124m'\u001b[39m\n\u001b[1;32m--> 771\u001b[0m \u001b[38;5;28;01mwith\u001b[39;00m \u001b[43m_open_file_like\u001b[49m\u001b[43m(\u001b[49m\u001b[43mf\u001b[49m\u001b[43m,\u001b[49m\u001b[43m \u001b[49m\u001b[38;5;124;43m'\u001b[39;49m\u001b[38;5;124;43mrb\u001b[39;49m\u001b[38;5;124;43m'\u001b[39;49m\u001b[43m)\u001b[49m \u001b[38;5;28;01mas\u001b[39;00m opened_file:\n\u001b[0;32m    772\u001b[0m     \u001b[38;5;28;01mif\u001b[39;00m _is_zipfile(opened_file):\n\u001b[0;32m    773\u001b[0m         \u001b[38;5;66;03m# The zipfile reader is going to advance the current file position.\u001b[39;00m\n\u001b[0;32m    774\u001b[0m         \u001b[38;5;66;03m# If we want to actually tail call to torch.jit.load, we need to\u001b[39;00m\n\u001b[0;32m    775\u001b[0m         \u001b[38;5;66;03m# reset back to the original position.\u001b[39;00m\n\u001b[0;32m    776\u001b[0m         orig_position \u001b[38;5;241m=\u001b[39m opened_file\u001b[38;5;241m.\u001b[39mtell()\n",
      "File \u001b[1;32mc:\\Users\\jayan\\anaconda3\\envs\\DTx\\lib\\site-packages\\torch\\serialization.py:270\u001b[0m, in \u001b[0;36m_open_file_like\u001b[1;34m(name_or_buffer, mode)\u001b[0m\n\u001b[0;32m    268\u001b[0m \u001b[38;5;28;01mdef\u001b[39;00m \u001b[38;5;21m_open_file_like\u001b[39m(name_or_buffer, mode):\n\u001b[0;32m    269\u001b[0m     \u001b[38;5;28;01mif\u001b[39;00m _is_path(name_or_buffer):\n\u001b[1;32m--> 270\u001b[0m         \u001b[38;5;28;01mreturn\u001b[39;00m \u001b[43m_open_file\u001b[49m\u001b[43m(\u001b[49m\u001b[43mname_or_buffer\u001b[49m\u001b[43m,\u001b[49m\u001b[43m \u001b[49m\u001b[43mmode\u001b[49m\u001b[43m)\u001b[49m\n\u001b[0;32m    271\u001b[0m     \u001b[38;5;28;01melse\u001b[39;00m:\n\u001b[0;32m    272\u001b[0m         \u001b[38;5;28;01mif\u001b[39;00m \u001b[38;5;124m'\u001b[39m\u001b[38;5;124mw\u001b[39m\u001b[38;5;124m'\u001b[39m \u001b[38;5;129;01min\u001b[39;00m mode:\n",
      "File \u001b[1;32mc:\\Users\\jayan\\anaconda3\\envs\\DTx\\lib\\site-packages\\torch\\serialization.py:251\u001b[0m, in \u001b[0;36m_open_file.__init__\u001b[1;34m(self, name, mode)\u001b[0m\n\u001b[0;32m    250\u001b[0m \u001b[38;5;28;01mdef\u001b[39;00m \u001b[38;5;21m__init__\u001b[39m(\u001b[38;5;28mself\u001b[39m, name, mode):\n\u001b[1;32m--> 251\u001b[0m     \u001b[38;5;28msuper\u001b[39m(_open_file, \u001b[38;5;28mself\u001b[39m)\u001b[38;5;241m.\u001b[39m\u001b[38;5;21m__init__\u001b[39m(\u001b[38;5;28;43mopen\u001b[39;49m\u001b[43m(\u001b[49m\u001b[43mname\u001b[49m\u001b[43m,\u001b[49m\u001b[43m \u001b[49m\u001b[43mmode\u001b[49m\u001b[43m)\u001b[49m)\n",
      "\u001b[1;31mFileNotFoundError\u001b[0m: [Errno 2] No such file or directory: 'final_00.pt'"
     ]
    }
   ],
   "source": [
    "# Set up the model\n",
    "detector = get_model(config)\n",
    "model = DETR_Wrapp(detector, config)\n",
    "model_path = \"final_00.pt\"\n",
    "model.model.load_state_dict(torch.load(model_path))\n",
    "device = torch.device(\"cuda\" if torch.cuda.is_available() else \"cpu\")\n",
    "model.eval()"
   ]
  },
  {
   "cell_type": "code",
   "execution_count": null,
   "metadata": {},
   "outputs": [],
   "source": [
    "# Initialise feature extractor\n",
    "feat_extractor = DetrImageProcessor(do_normalize=config.DATA.normalize,\n",
    "        size=config.DATA.resize_shortedge, max_size=config.DATA.resize_longedge,\n",
    "        image_mean=config.DATA.image_mean, image_std=config.DATA.image_std)\n",
    "# Initialise image location\n",
    "image_location = pathlib.Path.cwd() / \"image_results\"\n",
    "if not image_location.exists():\n",
    "    os.makedirs(image_location)"
   ]
  },
  {
   "cell_type": "code",
   "execution_count": null,
   "metadata": {},
   "outputs": [],
   "source": [
    "def evaluation(current_loader,model,device,feat_extractor,\n",
    "               images_out=False,image_location=None,config=None):\n",
    "    model.to(device)\n",
    "    base_dataset = current_loader.dataset.coco\n",
    "    iou_types = ['bbox']\n",
    "    coco_evaluator = CocoEvaluator(base_dataset, iou_types) # initialize evaluator with ground truths\n",
    "\n",
    "    # Define class dictionary for image labelling\n",
    "    classes = {\n",
    "        1: \"abdominal_wall\",\n",
    "        2: \"colon\",\n",
    "        3: \"inferior_mesenteric_artery\",\n",
    "        4: \"intestinal_veins\",\n",
    "        5: \"liver\",\n",
    "        6: \"pancreas\",\n",
    "        7: \"small_intestine\",\n",
    "        8: \"spleen\",\n",
    "        9: \"stomach\",\n",
    "        10: \"ureter\",\n",
    "        11: \"vesicular_glands\"\n",
    "    }\n",
    "\n",
    "    batches_to_show = 1\n",
    "    batches_shown = 0\n",
    "\n",
    "    with torch.no_grad():\n",
    "        for idx, batch in enumerate(current_loader):\n",
    "            if batches_shown >= batches_to_show:\n",
    "                break\n",
    "            # get the inputs\n",
    "            pixel_values = batch[\"pixel_values\"].to(device)\n",
    "            pixel_mask = batch[\"pixel_mask\"].to(device)\n",
    "            labels = [{k: v.to(device) for k, v in t.items()} for t in batch[\"labels\"]] # these are in DETR format, resized + normalized\n",
    "\n",
    "            pprint(len(labels))\n",
    "            # forward pass\n",
    "            outputs = model.model(pixel_values=pixel_values, pixel_mask=pixel_mask)\n",
    "            #pprint(outputs)\n",
    "            for key, value in outputs.items():\n",
    "                if isinstance(value, torch.Tensor):\n",
    "                    print(f\"Key: {key}, Shape: {value.size()}\")\n",
    "                else:\n",
    "                    print(f\"Key: {key}, Value type: {type(value)}\")\n",
    "\n",
    "            orig_target_sizes = torch.stack([target[\"orig_size\"] for target in labels], dim=0)\n",
    "            results = feat_extractor.post_process_object_detection(outputs,\n",
    "                                        target_sizes=orig_target_sizes,threshold=0.5) # convert outputs of model to COCO api\n",
    "            pprint(f\"Results: {results}\")\n",
    "            res = {target['image_id'].item(): output for target, output in zip(labels, results)}\n",
    "            pprint(f\"Res: {res}\")\n",
    "            coco_evaluator.update(res)\n",
    "            pprint(f\"Coco: {coco_evaluator}\")\n",
    "\n",
    "            # Print image\n",
    "            # if images_out:\n",
    "            #     if batches_shown < batches_to_show:\n",
    "            #         image_path = image_location\n",
    "            #         see_output(outputs, batch, classes, config, image_path)\n",
    "            #     else:\n",
    "            #         break\n",
    "            batches_shown += 1\n",
    "\n",
    "            del outputs\n",
    "\n",
    "    coco_evaluator.synchronize_between_processes()\n",
    "    coco_evaluator.accumulate()\n",
    "    coco_evaluator.summarize()"
   ]
  },
  {
   "cell_type": "code",
   "execution_count": null,
   "metadata": {},
   "outputs": [],
   "source": [
    "# Define see_output\n",
    "def see_output(output, batch, id2label, config, save_path):\n",
    "    \"\"\" Visualise the output of the model\n",
    "    Args:\n",
    "        output (dict): Output of the model\n",
    "        batch (dict): Batch of samples to visualise\n",
    "        id2label (dict): Dictionary mapping class indices to class names\n",
    "        config (dict): Config dictionary\n",
    "    \"\"\"\n",
    "    GT_COLOR = (10,70,0)\n",
    "    P_COLOR = (20,0,255)\n",
    "    pixel_values = batch[\"pixel_values\"]\n",
    "    labels = batch[\"labels\"]\n",
    "    batch_size = len(labels)\n",
    "\n",
    "    if int(batch_size/4)<1:\n",
    "        rows,cols = 1,batch_size\n",
    "    else:\n",
    "        rows,cols = int((3+batch_size)/4) , 4\n",
    "    \n",
    "    fig, axes = plt.subplots(rows,cols,figsize=(25,13))\n",
    "    for item,ax in enumerate(fig.axes):\n",
    "        # Debugging prints\n",
    "        # print(f\"Type of output: {type(output)}\")\n",
    "        # print(output.keys())\n",
    "        print(f\"Pred boxes: {output['pred_boxes'][item].size()}\")\n",
    "        # print(f\"Type of output[item]: {type(output[item])}\")\n",
    "        print(f\"Output[item]: {output[item]}\")\n",
    "        print(f\"labels: {labels}\")\n",
    "        print(f\"labels[item]: {labels[item]}\")\n",
    "        ax.set_axis_off()\n",
    "        if item<batch_size:\n",
    "            img = pixel_values[item,:,:,:]\n",
    "            p_boxes = output['pred_boxes'][item]\n",
    "            labels[item].update(output[item])\n",
    "            img, boxes = format_data(img,labels[item],config)\n",
    "            print(boxes)\n",
    "\n",
    "            if 'image_id' in labels[item].keys():\n",
    "                img_id = labels[item]['image_id'].numpy()[0]\n",
    "                ax.set_title(f\"Image ID: {img_id}\")\n",
    "            \n",
    "            if 'boxes' in boxes.keys():\n",
    "                gt_boxes = boxes['boxes']\n",
    "                tags = [f\"{id2label[idx]}\"  for idx in labels[item]['class_labels'].numpy()]\n",
    "                draw_boxes(img, gt_boxes, tags, True, GT_COLOR)\n",
    "\n",
    "            if 'p_boxes' in boxes.keys():\n",
    "                pred_boxes = boxes['p_boxes']\n",
    "                tags = [f\"{id2label[idx]} {100*score:3.2f}%\"  for idx,score \n",
    "                        in zip(labels[item]['p_class'].numpy(),labels[item]['p_score'].numpy())]\n",
    "                draw_boxes(img, pred_boxes, tags, False, P_COLOR)\n",
    "\n",
    "            print(f\"Image id: {img_id}\\nGT Boxes: {gt_boxes}\\nP Boxes: {pred_boxes}\\n\")\n",
    "\n",
    "            ax.imshow(img)\n",
    "\n",
    "            image_path = os.path.join(save_path, f\"output_{img_id}.png\")\n",
    "            img.save(image_path)"
   ]
  },
  {
   "cell_type": "code",
   "execution_count": null,
   "metadata": {},
   "outputs": [
    {
     "name": "stderr",
     "output_type": "stream",
     "text": [
      "c:\\Users\\jayan\\anaconda3\\envs\\DTx\\lib\\site-packages\\transformers\\models\\detr\\image_processing_detr.py:882: FutureWarning: The `max_size` parameter is deprecated and will be removed in v4.26. Please specify in `size['longest_edge'] instead`.\n",
      "  warnings.warn(\n"
     ]
    },
    {
     "name": "stdout",
     "output_type": "stream",
     "text": [
      "4\n",
      "Key: logits, Shape: torch.Size([4, 100, 12])\n",
      "Key: pred_boxes, Shape: torch.Size([4, 100, 4])\n",
      "Key: last_hidden_state, Shape: torch.Size([4, 100, 256])\n",
      "Key: encoder_last_hidden_state, Shape: torch.Size([4, 730, 256])\n",
      "(\"Results: [{'scores': tensor([]), 'labels': tensor([], dtype=torch.int64), \"\n",
      " \"'boxes': tensor([], size=(0, 4))}, {'scores': tensor([]), 'labels': \"\n",
      " \"tensor([], dtype=torch.int64), 'boxes': tensor([], size=(0, 4))}, {'scores': \"\n",
      " \"tensor([]), 'labels': tensor([], dtype=torch.int64), 'boxes': tensor([], \"\n",
      " \"size=(0, 4))}, {'scores': tensor([]), 'labels': tensor([], \"\n",
      " \"dtype=torch.int64), 'boxes': tensor([], size=(0, 4))}]\")\n",
      "(\"Res: {1032644: {'scores': tensor([]), 'labels': tensor([], \"\n",
      " \"dtype=torch.int64), 'boxes': tensor([], size=(0, 4))}, 1062118: {'scores': \"\n",
      " \"tensor([]), 'labels': tensor([], dtype=torch.int64), 'boxes': tensor([], \"\n",
      " \"size=(0, 4))}, 1080313: {'scores': tensor([]), 'labels': tensor([], \"\n",
      " \"dtype=torch.int64), 'boxes': tensor([], size=(0, 4))}, 1102174: {'scores': \"\n",
      " \"tensor([]), 'labels': tensor([], dtype=torch.int64), 'boxes': tensor([], \"\n",
      " 'size=(0, 4))}}')\n",
      "'Coco: <coco_eval.CocoEvaluator object at 0x0000026BBD210B20>'\n",
      "Accumulating evaluation results...\n",
      "DONE (t=0.02s).\n",
      "IoU metric: bbox\n",
      " Average Precision  (AP) @[ IoU=0.50:0.95 | area=   all | maxDets=100 ] = 0.000\n",
      " Average Precision  (AP) @[ IoU=0.50      | area=   all | maxDets=100 ] = 0.000\n",
      " Average Precision  (AP) @[ IoU=0.75      | area=   all | maxDets=100 ] = 0.000\n",
      " Average Precision  (AP) @[ IoU=0.50:0.95 | area= small | maxDets=100 ] = -1.000\n",
      " Average Precision  (AP) @[ IoU=0.50:0.95 | area=medium | maxDets=100 ] = 0.000\n",
      " Average Precision  (AP) @[ IoU=0.50:0.95 | area= large | maxDets=100 ] = 0.000\n",
      " Average Recall     (AR) @[ IoU=0.50:0.95 | area=   all | maxDets=  1 ] = 0.000\n",
      " Average Recall     (AR) @[ IoU=0.50:0.95 | area=   all | maxDets= 10 ] = 0.000\n",
      " Average Recall     (AR) @[ IoU=0.50:0.95 | area=   all | maxDets=100 ] = 0.000\n",
      " Average Recall     (AR) @[ IoU=0.50:0.95 | area= small | maxDets=100 ] = -1.000\n",
      " Average Recall     (AR) @[ IoU=0.50:0.95 | area=medium | maxDets=100 ] = 0.000\n",
      " Average Recall     (AR) @[ IoU=0.50:0.95 | area= large | maxDets=100 ] = 0.000\n"
     ]
    }
   ],
   "source": [
    "# Run evaluation script\n",
    "evaluation(val_dataloader,model,device,feat_extractor,\n",
    "            images_out=True,image_location=image_location,config=config)"
   ]
  },
  {
   "cell_type": "code",
   "execution_count": null,
   "metadata": {},
   "outputs": [
    {
     "name": "stdout",
     "output_type": "stream",
     "text": [
      "-0.8908640742301941\n"
     ]
    }
   ],
   "source": [
    "var = torch.randn(1,1)\n",
    "print(float(var))"
   ]
  },
  {
   "cell_type": "markdown",
   "metadata": {},
   "source": [
    "# Testing Section"
   ]
  },
  {
   "cell_type": "code",
   "execution_count": null,
   "metadata": {},
   "outputs": [
    {
     "name": "stderr",
     "output_type": "stream",
     "text": [
      "c:\\Users\\jayan\\anaconda3\\envs\\DTx\\lib\\site-packages\\transformers\\models\\detr\\image_processing_detr.py:882: FutureWarning: The `max_size` parameter is deprecated and will be removed in v4.26. Please specify in `size['longest_edge'] instead`.\n",
      "  warnings.warn(\n"
     ]
    },
    {
     "name": "stdout",
     "output_type": "stream",
     "text": [
      "5\n",
      "5\n",
      "11\n",
      "11\n",
      "11\n",
      "4\n",
      "2\n",
      "2\n",
      "2\n",
      "10\n",
      "10\n",
      "11\n",
      "11\n",
      "1\n"
     ]
    },
    {
     "data": {
      "image/png": "[encoded data removed]",
      "text/plain": [
       "<Figure size 1800x600 with 8 Axes>"
      ]
     },
     "metadata": {},
     "output_type": "display_data"
    }
   ],
   "source": [
    "# Testing for the dataloader\n",
    "counter = 0\n",
    "for idx, batch in enumerate(test_dataloader):\n",
    "    counter += 1\n",
    "    if counter > 10:\n",
    "        break\n",
    "    # pprint(batch['labels'])\n",
    "    labels = batch['labels']\n",
    "    \n",
    "    if int(len(labels)/4)<1:\n",
    "        rows,cols = 1,len(labels)\n",
    "    else:\n",
    "        rows,cols = int((3+len(labels))/4) , 4\n",
    "    \n",
    "    fig, axes = plt.subplots(rows,cols,figsize=(18,6))\n",
    "    for item,ax in enumerate(fig.axes):\n",
    "        for i in range(len(labels[item]['class_labels'])):\n",
    "            class_idx = labels[item]['class_labels'].numpy()[i]\n",
    "            print(class_idx)\n",
    "    break"
   ]
  }
 ],
 "metadata": {
  "kernelspec": {
   "display_name": "MedTx",
   "language": "python",
   "name": "python3"
  },
  "language_info": {
   "codemirror_mode": {
    "name": "ipython",
    "version": 3
   },
   "file_extension": ".py",
   "mimetype": "text/x-python",
   "name": "python",
   "nbconvert_exporter": "python",
   "pygments_lexer": "ipython3",
   "version": "3.9.19"
  }
 },
 "nbformat": 4,
 "nbformat_minor": 2
}
